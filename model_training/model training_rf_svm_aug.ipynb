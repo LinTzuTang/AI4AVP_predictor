{
 "cells": [
  {
   "cell_type": "code",
   "execution_count": null,
   "metadata": {},
   "outputs": [],
   "source": [
    "import numpy as np\n",
    "import pandas as pd\n",
    "from protein_encoding import PC_6, read_fasta\n",
    "from model_tools import evalution_metrics\n",
    "from sklearn import ensemble, preprocessing, metrics\n",
    "from sklearn import svm, preprocessing, metrics"
   ]
  },
  {
   "cell_type": "code",
   "execution_count": null,
   "metadata": {},
   "outputs": [],
   "source": [
    "# load train data\n",
    "# PC6 encoding\n",
    "AVP_data = PC_6('../data/pos_trainval_6db_2641.fasta', length=50)\n",
    "non_AVP_data = PC_6('../data/combined_16995_negativeset.fasta', length=50)\n",
    "gan_AVP_data = PC_6('../data/GAN_AVP_14354.fasta', length=50)"
   ]
  },
  {
   "cell_type": "code",
   "execution_count": null,
   "metadata": {},
   "outputs": [],
   "source": [
    "# dict to np array\n",
    "AVP_array= np.array(list(AVP_data.values()))\n",
    "non_AVP_array = np.array(list(non_AVP_data.values()))\n",
    "gan_AVP_array = np.array(list(gan_AVP_data.values()))"
   ]
  },
  {
   "cell_type": "code",
   "execution_count": null,
   "metadata": {},
   "outputs": [],
   "source": [
    "# real AVPs + GAN AVPs\n",
    "AVP_array = np.concatenate((AVP_array,gan_AVP_array),axis=0)"
   ]
  },
  {
   "cell_type": "code",
   "execution_count": null,
   "metadata": {},
   "outputs": [],
   "source": [
    "# feature & labels (0:non_AVP, 1:AVP)\n",
    "features = np.concatenate((non_AVP_array,AVP_array),axis=0)\n",
    "labels = np.hstack((np.repeat(0, len(non_AVP_array)),np.repeat(1, len(AVP_array))))"
   ]
  },
  {
   "cell_type": "code",
   "execution_count": null,
   "metadata": {},
   "outputs": [],
   "source": [
    "# reshape\n",
    "train_data = features.reshape(features.shape[0],-1)"
   ]
  },
  {
   "cell_type": "code",
   "execution_count": null,
   "metadata": {},
   "outputs": [],
   "source": [
    "# load testing data\n",
    "test_AVP_data = PC_6('../data/testing_6db_filter2012out_1_0.fasta', length=50)\n",
    "test_non_AVP_data = PC_6('../data/neg_testing_uniprot_random_combined_293.fasta', length=50)\n",
    "test_AVP_array= np.array(list(test_AVP_data.values()))\n",
    "test_non_AVP_array = np.array(list(test_non_AVP_data.values()))\n",
    "\n",
    "# feature & labels\n",
    "test_features = np.concatenate((test_non_AVP_array,test_AVP_array),axis=0)\n",
    "test_labels = np.hstack((np.repeat(0, len(test_non_AVP_array)),np.repeat(1, len(test_AVP_array))))\n",
    "\n",
    "# reshape\n",
    "test_data = test_features.reshape(test_features.shape[0],-1)"
   ]
  },
  {
   "cell_type": "code",
   "execution_count": null,
   "metadata": {},
   "outputs": [],
   "source": [
    "# RF\n",
    "forest = ensemble.RandomForestClassifier(n_estimators = 100)\n",
    "forest_fit = forest.fit(train_data, labels)"
   ]
  },
  {
   "cell_type": "code",
   "execution_count": null,
   "metadata": {},
   "outputs": [],
   "source": [
    "labels_score = forest.predict(test_data)\n",
    "evalution_metrics(test_labels, labels_score, save=True, txt_name= 'rf')"
   ]
  },
  {
   "cell_type": "code",
   "execution_count": null,
   "metadata": {},
   "outputs": [],
   "source": [
    "# SVM\n",
    "svc = svm.SVC()\n",
    "svc_fit = svc.fit(train_data, labels)"
   ]
  },
  {
   "cell_type": "code",
   "execution_count": null,
   "metadata": {},
   "outputs": [],
   "source": [
    "labels_score = svc.predict(test_data)\n",
    "evalution_metrics(test_labels, labels_score, save=True, txt_name= 'svm')"
   ]
  }
 ],
 "metadata": {
  "kernelspec": {
   "display_name": "Python 3",
   "language": "python",
   "name": "python3"
  },
  "language_info": {
   "codemirror_mode": {
    "name": "ipython",
    "version": 3
   },
   "file_extension": ".py",
   "mimetype": "text/x-python",
   "name": "python",
   "nbconvert_exporter": "python",
   "pygments_lexer": "ipython3",
   "version": "3.8.10"
  }
 },
 "nbformat": 4,
 "nbformat_minor": 4
}
